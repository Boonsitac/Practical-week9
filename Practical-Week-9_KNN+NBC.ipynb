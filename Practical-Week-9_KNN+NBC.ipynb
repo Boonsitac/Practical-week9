{
  "metadata": {
    "kernelspec": {
      "name": "python",
      "display_name": "Python (Pyodide)",
      "language": "python"
    },
    "language_info": {
      "codemirror_mode": {
        "name": "python",
        "version": 3
      },
      "file_extension": ".py",
      "mimetype": "text/x-python",
      "name": "python",
      "nbconvert_exporter": "python",
      "pygments_lexer": "ipython3",
      "version": "3.8"
    }
  },
  "nbformat_minor": 4,
  "nbformat": 4,
  "cells": [
    {
      "cell_type": "markdown",
      "source": "# Week 10 Practical Tasks\n## KNN Classifier and Naive Bayes Classifier",
      "metadata": {}
    },
    {
      "cell_type": "markdown",
      "source": "### 1. Classifying Iris Species with KNN Classifier\nIn this section, we will go through a simple machine learning application and create\nour first classification model. In the process, we will introduce some core concepts and terms.\n\nLet’s assume that a hobby botanist is interested in distinguishing the species of some\niris flowers that she has found. She has collected some measurements associated with\neach iris: the length and width of the petals and the length and width of the sepals, all\nmeasured in centimeters.\n\nShe also has the measurements of some irises that have been previously identified by\nan expert botanist as belonging to the species setosa, versicolor, or virginica. For these\nmeasurements, she can be certain of which species each iris belongs to. Let’s assume\nthat these are the only species our hobby botanist will encounter in the wild.\n\nOur goal is to build a machine learning model that can learn from the measurements\nof these irises whose species is known, so that we can predict the species for a new\niris.\n\nReference: Introduction to Machine learning with Python",
      "metadata": {}
    },
    {
      "cell_type": "markdown",
      "source": "* ### Import Data\n\nThe sklearn package provides some built-in real-world data sets to let users experience working on a real-world data analysis applications. The Iris data set is one of them. Please refer to https://scikit-learn.org/stable/datasets/index.html for more information about these built-in data sets.",
      "metadata": {}
    },
    {
      "cell_type": "code",
      "source": "import warnings \nwarnings.filterwarnings(\"ignore\")",
      "metadata": {
        "trusted": true
      },
      "execution_count": 75,
      "outputs": []
    },
    {
      "cell_type": "code",
      "source": "import numpy as np\nfloat_formatter = \"{:.6f}\".format\nnp.set_printoptions(formatter={'float_kind':float_formatter})\n\nfrom sklearn import datasets\n\niris_data = datasets.load_iris()\n\nprint(\"Feature names: \\n\", iris_data.feature_names)\nprint(\"Target names: \\n\", iris_data.target_names)\n\nprint(\"Feature data size: \\n\", iris_data.data.shape)\nprint(\"Target data size: \\n\", iris_data.target.shape)\nprint(\"Target values: \\n\", iris_data.target)",
      "metadata": {
        "trusted": true
      },
      "execution_count": 76,
      "outputs": [
        {
          "name": "stdout",
          "text": "Feature names: \n ['sepal length (cm)', 'sepal width (cm)', 'petal length (cm)', 'petal width (cm)']\nTarget names: \n ['setosa' 'versicolor' 'virginica']\nFeature data size: \n (150, 4)\nTarget data size: \n (150,)\nTarget values: \n [0 0 0 0 0 0 0 0 0 0 0 0 0 0 0 0 0 0 0 0 0 0 0 0 0 0 0 0 0 0 0 0 0 0 0 0 0\n 0 0 0 0 0 0 0 0 0 0 0 0 0 1 1 1 1 1 1 1 1 1 1 1 1 1 1 1 1 1 1 1 1 1 1 1 1\n 1 1 1 1 1 1 1 1 1 1 1 1 1 1 1 1 1 1 1 1 1 1 1 1 1 1 2 2 2 2 2 2 2 2 2 2 2\n 2 2 2 2 2 2 2 2 2 2 2 2 2 2 2 2 2 2 2 2 2 2 2 2 2 2 2 2 2 2 2 2 2 2 2 2 2\n 2 2]\n",
          "output_type": "stream"
        }
      ]
    },
    {
      "cell_type": "code",
      "source": "iris_data.data.shape",
      "metadata": {
        "trusted": true
      },
      "execution_count": 79,
      "outputs": [
        {
          "execution_count": 79,
          "output_type": "execute_result",
          "data": {
            "text/plain": "(150, 4)"
          },
          "metadata": {}
        }
      ]
    },
    {
      "cell_type": "code",
      "source": "iris_data.target",
      "metadata": {
        "trusted": true
      },
      "execution_count": 80,
      "outputs": [
        {
          "execution_count": 80,
          "output_type": "execute_result",
          "data": {
            "text/plain": "array([0, 0, 0, 0, 0, 0, 0, 0, 0, 0, 0, 0, 0, 0, 0, 0, 0, 0, 0, 0, 0, 0,\n       0, 0, 0, 0, 0, 0, 0, 0, 0, 0, 0, 0, 0, 0, 0, 0, 0, 0, 0, 0, 0, 0,\n       0, 0, 0, 0, 0, 0, 1, 1, 1, 1, 1, 1, 1, 1, 1, 1, 1, 1, 1, 1, 1, 1,\n       1, 1, 1, 1, 1, 1, 1, 1, 1, 1, 1, 1, 1, 1, 1, 1, 1, 1, 1, 1, 1, 1,\n       1, 1, 1, 1, 1, 1, 1, 1, 1, 1, 1, 1, 2, 2, 2, 2, 2, 2, 2, 2, 2, 2,\n       2, 2, 2, 2, 2, 2, 2, 2, 2, 2, 2, 2, 2, 2, 2, 2, 2, 2, 2, 2, 2, 2,\n       2, 2, 2, 2, 2, 2, 2, 2, 2, 2, 2, 2, 2, 2, 2, 2, 2, 2])"
          },
          "metadata": {}
        }
      ]
    },
    {
      "cell_type": "markdown",
      "source": "* ### Training and Testing Data\n\nWe want to build a machine learning model from this data that can predict the species\nof iris for a new set of measurements. But before we can apply our model to new\nmeasurements, we need to know whether it actually works—that is, whether we\nshould trust its predictions.\n\nTo assess the model’s performance, we show it new data (data that it hasn’t seen\nbefore) for which we have labels. This is usually done by splitting the labeled data we\nhave collected (here, our 150 flower measurements) into two parts. One part of the\ndata is used to build our machine learning model, and is called the training data or\ntraining set. The rest of the data will be used to assess how well the model works; this\nis called the test data, test set, or hold-out set.\n\nscikit-learn contains a function that shuffles the dataset and splits it for you: the\n[train_test_split](https://scikit-learn.org/stable/modules/generated/sklearn.model_selection.train_test_split.html#sklearn.model_selection.train_test_split) function. As default, this function extracts 75% of the rows in the data as the\ntraining set, together with the corresponding labels for this data. The remaining 25%\nof the data, together with the remaining labels, is declared as the test set. Deciding\nhow much data you want to put into the training and the test set respectively is somewhat\narbitrary, but using a test set containing 25% of the data is a good rule of thumb.\n\nIn scikit-learn, data is usually denoted with a capital X, while labels are denoted by\na lowercase y. This is inspired by the standard formulation f(x)=y in mathematics,\nwhere x is the input to a function and y is the output. Following more conventions\nfrom mathematics, we use a capital X because the data is a two-dimensional array (a\nmatrix) and a lowercase y because the target is a one-dimensional array (a vector).\nLet’s call train_test_split on our data and assign the outputs using this nomenclature:",
      "metadata": {}
    },
    {
      "cell_type": "code",
      "source": "from sklearn.model_selection import train_test_split",
      "metadata": {
        "trusted": true
      },
      "execution_count": 81,
      "outputs": []
    },
    {
      "cell_type": "markdown",
      "source": "Before making the split, the train_test_split function shuffles the dataset using a\npseudorandom number generator. If we just took the last 25% of the data as a test set,\nall the data points would have the label 2, as the data points are sorted by the label\n(see the output for iris['target'] shown earlier). Using a test set containing only\none of the three classes would not tell us much about how well our model generalizes. This will result in situation that the training data and testing data have different distributions.\nSo, we shuffle our data to make sure the test data contains data from all classes.\n\nTo make sure that we will get the same output if we run the same function several\ntimes, we provide the pseudorandom number generator with a fixed seed using the\nrandom_state parameter. This will make the outcome deterministic, so this line will\nalways have the same outcome. We will always fix the random_state in this way when\nusing randomized procedures.\n\nThe output of the train_test_split function is X_train, X_test, y_train, and\ny_test, which are all NumPy arrays. X_train contains 75% of the rows of the dataset,\nand X_test contains the remaining 25%:",
      "metadata": {}
    },
    {
      "cell_type": "code",
      "source": "X_train, X_test, y_train, y_test = train_test_split(iris_data.data, iris_data.target, random_state=142)\n\nprint(\"X_train shape: {}\".format(X_train.shape))\nprint(\"y_train shape: {}\".format(y_train.shape))\nprint(\"X_test shape: {}\".format(X_test.shape))\nprint(\"y_test shape: {}\".format(y_test.shape))",
      "metadata": {
        "trusted": true
      },
      "execution_count": 82,
      "outputs": [
        {
          "name": "stdout",
          "text": "X_train shape: (112, 4)\ny_train shape: (112,)\nX_test shape: (38, 4)\ny_test shape: (38,)\n",
          "output_type": "stream"
        }
      ]
    },
    {
      "cell_type": "markdown",
      "source": "* ### K-Nearest Neighbours Classifier\n\nNow we can start building the actual machine learning model. There are many classification\nalgorithms in scikit-learn that we could use. Here we will use a k-nearest\nneighbors classifier, which is easy to understand. Building this model only consists of\nstoring the training set. To make a prediction for a new data point, the algorithm\nfinds the point in the training set that is closest to the new point. Then it assigns the\nlabel of this training point to the new data point.\n\nAll machine learning models in scikit-learn are implemented in their own classes,\nwhich are called Estimator classes. The k-nearest neighbors classification algorithm\nis implemented in the [KNeighborsClassifier](https://scikit-learn.org/stable/modules/generated/sklearn.neighbors.KNeighborsClassifier.html#sklearn.neighbors.KNeighborsClassifier) class in the neighbors module. Before\nwe can use the model, we need to instantiate the class into an object. This is when we\nwill set any parameters of the model. The most important parameter of KNeighbors\nClassifier is the number of neighbors (i.e., $K$), which we will set to 1 for our first exploration.\n\n**Model Training**: To build the model on the training set, we call the 'fit' method of the knn object,\nwhich takes as arguments the NumPy array X_train containing the training data and\nthe NumPy array y_train of the corresponding training labels.",
      "metadata": {}
    },
    {
      "cell_type": "code",
      "source": "# Import the KNN classifier\nfrom sklearn.neighbors import KNeighborsClassifier\n\n# Build a KNN classifier model\nclf_knn = KNeighborsClassifier(n_neighbors=1)\n\n# Train the model with the training data\nclf_knn.fit(X_train, y_train)",
      "metadata": {
        "trusted": true
      },
      "execution_count": 83,
      "outputs": [
        {
          "execution_count": 83,
          "output_type": "execute_result",
          "data": {
            "text/plain": "KNeighborsClassifier(n_neighbors=1)",
            "text/html": "<style>#sk-container-id-7 {color: black;background-color: white;}#sk-container-id-7 pre{padding: 0;}#sk-container-id-7 div.sk-toggleable {background-color: white;}#sk-container-id-7 label.sk-toggleable__label {cursor: pointer;display: block;width: 100%;margin-bottom: 0;padding: 0.3em;box-sizing: border-box;text-align: center;}#sk-container-id-7 label.sk-toggleable__label-arrow:before {content: \"▸\";float: left;margin-right: 0.25em;color: #696969;}#sk-container-id-7 label.sk-toggleable__label-arrow:hover:before {color: black;}#sk-container-id-7 div.sk-estimator:hover label.sk-toggleable__label-arrow:before {color: black;}#sk-container-id-7 div.sk-toggleable__content {max-height: 0;max-width: 0;overflow: hidden;text-align: left;background-color: #f0f8ff;}#sk-container-id-7 div.sk-toggleable__content pre {margin: 0.2em;color: black;border-radius: 0.25em;background-color: #f0f8ff;}#sk-container-id-7 input.sk-toggleable__control:checked~div.sk-toggleable__content {max-height: 200px;max-width: 100%;overflow: auto;}#sk-container-id-7 input.sk-toggleable__control:checked~label.sk-toggleable__label-arrow:before {content: \"▾\";}#sk-container-id-7 div.sk-estimator input.sk-toggleable__control:checked~label.sk-toggleable__label {background-color: #d4ebff;}#sk-container-id-7 div.sk-label input.sk-toggleable__control:checked~label.sk-toggleable__label {background-color: #d4ebff;}#sk-container-id-7 input.sk-hidden--visually {border: 0;clip: rect(1px 1px 1px 1px);clip: rect(1px, 1px, 1px, 1px);height: 1px;margin: -1px;overflow: hidden;padding: 0;position: absolute;width: 1px;}#sk-container-id-7 div.sk-estimator {font-family: monospace;background-color: #f0f8ff;border: 1px dotted black;border-radius: 0.25em;box-sizing: border-box;margin-bottom: 0.5em;}#sk-container-id-7 div.sk-estimator:hover {background-color: #d4ebff;}#sk-container-id-7 div.sk-parallel-item::after {content: \"\";width: 100%;border-bottom: 1px solid gray;flex-grow: 1;}#sk-container-id-7 div.sk-label:hover label.sk-toggleable__label {background-color: #d4ebff;}#sk-container-id-7 div.sk-serial::before {content: \"\";position: absolute;border-left: 1px solid gray;box-sizing: border-box;top: 0;bottom: 0;left: 50%;z-index: 0;}#sk-container-id-7 div.sk-serial {display: flex;flex-direction: column;align-items: center;background-color: white;padding-right: 0.2em;padding-left: 0.2em;position: relative;}#sk-container-id-7 div.sk-item {position: relative;z-index: 1;}#sk-container-id-7 div.sk-parallel {display: flex;align-items: stretch;justify-content: center;background-color: white;position: relative;}#sk-container-id-7 div.sk-item::before, #sk-container-id-7 div.sk-parallel-item::before {content: \"\";position: absolute;border-left: 1px solid gray;box-sizing: border-box;top: 0;bottom: 0;left: 50%;z-index: -1;}#sk-container-id-7 div.sk-parallel-item {display: flex;flex-direction: column;z-index: 1;position: relative;background-color: white;}#sk-container-id-7 div.sk-parallel-item:first-child::after {align-self: flex-end;width: 50%;}#sk-container-id-7 div.sk-parallel-item:last-child::after {align-self: flex-start;width: 50%;}#sk-container-id-7 div.sk-parallel-item:only-child::after {width: 0;}#sk-container-id-7 div.sk-dashed-wrapped {border: 1px dashed gray;margin: 0 0.4em 0.5em 0.4em;box-sizing: border-box;padding-bottom: 0.4em;background-color: white;}#sk-container-id-7 div.sk-label label {font-family: monospace;font-weight: bold;display: inline-block;line-height: 1.2em;}#sk-container-id-7 div.sk-label-container {text-align: center;}#sk-container-id-7 div.sk-container {/* jupyter's `normalize.less` sets `[hidden] { display: none; }` but bootstrap.min.css set `[hidden] { display: none !important; }` so we also need the `!important` here to be able to override the default hidden behavior on the sphinx rendered scikit-learn.org. See: https://github.com/scikit-learn/scikit-learn/issues/21755 */display: inline-block !important;position: relative;}#sk-container-id-7 div.sk-text-repr-fallback {display: none;}</style><div id=\"sk-container-id-7\" class=\"sk-top-container\"><div class=\"sk-text-repr-fallback\"><pre>KNeighborsClassifier(n_neighbors=1)</pre><b>In a Jupyter environment, please rerun this cell to show the HTML representation or trust the notebook. <br />On GitHub, the HTML representation is unable to render, please try loading this page with nbviewer.org.</b></div><div class=\"sk-container\" hidden><div class=\"sk-item\"><div class=\"sk-estimator sk-toggleable\"><input class=\"sk-toggleable__control sk-hidden--visually\" id=\"sk-estimator-id-7\" type=\"checkbox\" checked><label for=\"sk-estimator-id-7\" class=\"sk-toggleable__label sk-toggleable__label-arrow\">KNeighborsClassifier</label><div class=\"sk-toggleable__content\"><pre>KNeighborsClassifier(n_neighbors=1)</pre></div></div></div></div></div>"
          },
          "metadata": {}
        }
      ]
    },
    {
      "cell_type": "markdown",
      "source": "**Prediction**: We can now make predictions using this model on new data for which we might not\nknow the correct labels. Imagine we found an iris in the wild with a sepal length of\n5 cm, a sepal width of 2.9 cm, a petal length of 1 cm, and a petal width of 0.2 cm.\nWhat species of iris would this be? We can put this data into a NumPy array, again by\ncalculating the shape—that is, the number of samples (1) multiplied by the number of\nfeatures (4):",
      "metadata": {}
    },
    {
      "cell_type": "code",
      "source": "# Produce the features of a testing data instance\nX_new = np.array([[5, 2.9, 1, 0.2]])\nprint(\"X_new.shape: {}\".format(X_new.shape))\n\n# Predict the result label of X_new:\ny_new_pred = clf_knn.predict(X_new)\nprint(\"The predicted class is: \\n\", y_new_pred)",
      "metadata": {
        "trusted": true
      },
      "execution_count": 84,
      "outputs": [
        {
          "name": "stdout",
          "text": "X_new.shape: (1, 4)\nThe predicted class is: \n [0]\n",
          "output_type": "stream"
        }
      ]
    },
    {
      "cell_type": "markdown",
      "source": "Our model predicts that this new iris belongs to the class 0, meaning its species is setosa. But how do we know whether we can trust our model? We don’t know the correct species of this sample, which is the whole point of building the model!",
      "metadata": {}
    },
    {
      "cell_type": "markdown",
      "source": "**Evaluating Model**: This is where the test set that we created earlier comes in. This data was not used to build the model, but we do know what the correct species is for each iris in the test set. So, we can use the trained model to predict these data instances and calculate the accuracy to evaluate how good the model is.",
      "metadata": {}
    },
    {
      "cell_type": "markdown",
      "source": "## Task 1 \nWrite code to calculate the accuracy score",
      "metadata": {}
    },
    {
      "cell_type": "code",
      "source": "# [Your code here ...]\nfrom sklearn.metrics import accuracy_score\ny_pred = clf_knn.predict(X_test)\naccuracy_score(y_test, y_pred)\nprint(\"current model accuracy is:\", accuracy_score)",
      "metadata": {
        "trusted": true
      },
      "execution_count": 85,
      "outputs": [
        {
          "name": "stdout",
          "text": "current model accuracy is: <function accuracy_score at 0x3ff8098>\n",
          "output_type": "stream"
        }
      ]
    },
    {
      "cell_type": "markdown",
      "source": "* ### Parameter Tuning with Cross Validation (CV)\n\nIn this section, we’ll explore a CV method that can be used to tune the hyperparameter $K$ using the above training and test data.\n\nScikit-learn comes in handy with its [cross_val_score](https://scikit-learn.org/stable/modules/generated/sklearn.model_selection.cross_val_score.html#sklearn.model_selection.cross_val_score) method. We specifiy that we are performing 10 folds with the cv=KFold(n_splits=10, shuffle=True) parameter and that our scoring metric should be accuracy since we are in a classification setting. In each iteration, the training data take 90% of the total data while testing data takes 10%. The average on the accuracies reported from each iteration will make the testing accuracy more robust than just a single split of the data.\n\n**Manual tuning with cross validation**: Plot the misclassification error versus $K$. You need to figure out the possible values of $K$. If the number of possible values is too big, you can take some values with a certain step, e.g., $K$ = 1, 5, 10, ... with a step of 5. ",
      "metadata": {}
    },
    {
      "cell_type": "code",
      "source": "from sklearn.model_selection import cross_val_score, KFold\nimport matplotlib.pyplot as plt\n\ncv_scores = []\ncv_scores_std = []\nk_range = range(1, 135, 5)\nfor i in k_range:\n    clf = KNeighborsClassifier(n_neighbors = i)\n    scores = cross_val_score(clf, iris_data.data, iris_data.target, scoring='accuracy', cv=KFold(n_splits=10, shuffle=True))\n    cv_scores.append(scores.mean())\n    cv_scores_std.append(scores.std())\n\n# Plot the relationship\nplt.errorbar(k_range, cv_scores, yerr=cv_scores_std, marker='x', label='Accuracy')\nplt.ylim([0.1, 1.1])\nplt.xlabel('$K$')\nplt.ylabel('Accuracy')\nplt.legend(loc='best')\nplt.show()",
      "metadata": {
        "scrolled": true,
        "trusted": true
      },
      "execution_count": 87,
      "outputs": [
        {
          "output_type": "display_data",
          "data": {
            "text/plain": "<Figure size 640x480 with 1 Axes>",
            "image/png": "[encoded data removed]"
          },
          "metadata": {}
        }
      ]
    },
    {
      "cell_type": "markdown",
      "source": "It can be seen that the accuracy first goes up when $K$ increases. It peeks around 15. Then, it keeps going down. Particularly, the performance (measured by the score mean) and its robustness/stableness (measured by the score std) drop substantially around K=85. One possible reason is that when K is bigger than 85, the model suffers from the underfitting issue severely. ",
      "metadata": {}
    },
    {
      "cell_type": "markdown",
      "source": "**Automated Parameter Tuning**: Use the [GridSearchCV](https://scikit-learn.org/stable/modules/generated/sklearn.model_selection.GridSearchCV.html#sklearn.model_selection.GridSearchCV) method to accomplish automatic model selection. ",
      "metadata": {}
    },
    {
      "cell_type": "markdown",
      "source": "## Task 2\nCheck against the figure plotted above to see if the selected hyperparameter $K$ can lead to the highest misclassification accuracy. ",
      "metadata": {}
    },
    {
      "cell_type": "code",
      "source": "# [Your code here ...]\nfrom sklearn.model_selection import GridSearchCV\nparameter_grid = {'n_neighbors': range(1, 135, 5)}\nclf2 = KNeighborsClassifier()\ngs_knn = GridSearchCV(clf2, parameter_grid, scoring='accuracy', cv=KFold(n_splits=10, shuffle=True))\ngs_knn.fit(iris_data.data, iris_data.target)\nprint('The best hyper-parameter of k should be:', gs_knn.best_params_['n_neighbors'])",
      "metadata": {
        "trusted": true
      },
      "execution_count": 88,
      "outputs": [
        {
          "name": "stdout",
          "text": "The best hyper-parameter of k should be: 11\n",
          "output_type": "stream"
        }
      ]
    },
    {
      "cell_type": "code",
      "source": "",
      "metadata": {},
      "execution_count": null,
      "outputs": []
    },
    {
      "cell_type": "markdown",
      "source": "## Task 3\nIt can be seen that GridSearchCV can help us to the automated hyperparameter tuning. Actually, it also store the intermediate results during the search procrss. The attribute 'cv_results_' of GridSearchCV contains much such informaiton. For example, this attribute contains the 'mean_test_score' and 'std_test_score' for the cross validation. Make use of this information to produce a plot similar to what we did in the manual way. Please check if the two plots comply with each other.",
      "metadata": {}
    },
    {
      "cell_type": "code",
      "source": "# [Your code here ...]\ncv_scores_means = gs_knn.cv_results_['mean_test_score']\ncv_scores_stds = gs_knn.cv_results_['std_test_score']\n\nplt.errorbar(k_range, cv_scores, yerr=cv_scores_stds, marker='x', label='Accuracy')\nplt.ylim([0.1, 1.1])\nplt.xlabel('$K$')\nplt.ylabel('Accuracy')\nplt.legend(loc='best')\nplt.show()",
      "metadata": {
        "trusted": true
      },
      "execution_count": 89,
      "outputs": [
        {
          "output_type": "display_data",
          "data": {
            "text/plain": "<Figure size 640x480 with 1 Axes>",
            "image/png": "[encoded data removed]"
          },
          "metadata": {}
        }
      ]
    },
    {
      "cell_type": "markdown",
      "source": "### 2. Naive Bayes Classifier\nNaive Bayes methods are a set of supervised learning algorithms based on applying Bayes' theorem with the \"naive\" assumption of conditional independence between every pair of features given the value of the class variable. Bayes'theorem states the following relationship, given class variable $y$ and dependent feature vector $x_1$ through $x_n$,:\n\n$$P(y \\mid x_1, \\dots, x_n) = \\frac{P(y) P(x_1, \\dots x_n \\mid y)}\n                                 {P(x_1, \\dots, x_n)}$$\n\nUsing the naive conditional independence assumption, we have\n\n$$\\begin{align}\\begin{aligned}P(y \\mid x_1, \\dots, x_n) \\propto P(y) \\prod_{i=1}^{n} P(x_i \\mid y)\\\\\\Downarrow\\\\\\hat{y} = \\arg\\max_y P(y) \\prod_{i=1}^{n} P(x_i \\mid y),\\end{aligned}\\end{align}$$\n\nThen, we can use Maximum A Posteriori (MAP) estimation to estimate $P(y)$ and $P(x_i \\mid y)$; the former is then the relative frequency of class $y$ in the training set.\n\n*References*:\nH. Zhang (2004). The optimality of Naive Bayes. Proc. FLAIRS.",
      "metadata": {}
    },
    {
      "cell_type": "markdown",
      "source": "* ### Gaussian Naive Bayes\n\n[GaussianNB](https://scikit-learn.org/stable/modules/generated/sklearn.naive_bayes.GaussianNB.html#sklearn.naive_bayes.GaussianNB) implements the Gaussian Naive Bayes algorithm for classification on the data sets where features are continuous.   \nThe likelihood of the features is assumed to be Gaussian:\n\n$$P(x_i \\mid y) = \\frac{1}{\\sqrt{2\\pi\\sigma^2_y}} \\exp\\left(-\\frac{(x_i - \\mu_y)^2}{2\\sigma^2_y}\\right)$$\n\nThe parameters $\\sigma_y$ and $\\mu_y$  are estimated using maximum likelihood.",
      "metadata": {}
    },
    {
      "cell_type": "markdown",
      "source": "**Demo**: In this demo, we show how to build a Gaussian Naive Bayes classifier.",
      "metadata": {}
    },
    {
      "cell_type": "code",
      "source": "import pandas as pd\nfrom sklearn.datasets import make_classification\nfrom sklearn.naive_bayes import GaussianNB\nimport warnings\nwarnings.filterwarnings(\"ignore\")",
      "metadata": {
        "trusted": true
      },
      "execution_count": 90,
      "outputs": []
    },
    {
      "cell_type": "code",
      "source": "# Generate a synthetica 2D dataset\nX, y = make_classification(n_samples=50, n_features=2, n_informative=2,\n                           n_redundant=0, n_classes=3, n_clusters_per_class=1, \n                           weights=None, flip_y=0.01, class_sep=0.5, hypercube=True,\n                           shift=0.0, scale=1.0, shuffle=True, random_state=42)\n\n# Data split\nX_train, X_test, y_train, y_test = train_test_split(X, y, test_size=.2, random_state=42)\n\n# Visualize the generated data\ncolors = ['blue', 'yellow', 'green']\nfor i, color in enumerate(colors):\n    plt.scatter(X_train[y_train == i, 0], X_train[y_train == i, 1], c=color)\nplt.scatter(X_test[:, 0], X_test[:,1], c='red', marker='x', label='Testing Data')\nplt.legend(loc='best')\nplt.show()",
      "metadata": {
        "trusted": true
      },
      "execution_count": 91,
      "outputs": [
        {
          "output_type": "display_data",
          "data": {
            "text/plain": "<Figure size 640x480 with 1 Axes>",
            "image/png": "[encoded data removed]"
          },
          "metadata": {}
        }
      ]
    },
    {
      "cell_type": "code",
      "source": "# Create and training a Gaussian Naive Bayes classifier model\nclf = GaussianNB()\nclf.fit(X_train, y_train)\n\n# Use the model to predict testing data\ny_pred = clf.predict(X_test)\naccuracy = accuracy_score(y_pred, y_test)\nprint('Testing accuracy is: %.4f\\n' % accuracy)",
      "metadata": {
        "trusted": true
      },
      "execution_count": 92,
      "outputs": [
        {
          "name": "stdout",
          "text": "Testing accuracy is: 0.8000\n\n",
          "output_type": "stream"
        }
      ]
    },
    {
      "cell_type": "code",
      "source": "# Explore the learned probability (model parameters)\nprint('Estimated probability of classess: \\n', clf.class_prior_)\nprint('Estimated mean for each Gaussian distribution: \\n', clf.theta_)\nprint('Estimated variance for each Gaussian distribution: \\n', clf.var_)",
      "metadata": {
        "trusted": true
      },
      "execution_count": 94,
      "outputs": [
        {
          "name": "stdout",
          "text": "Estimated probability of classess: \n [0.325000 0.375000 0.300000]\nEstimated mean for each Gaussian distribution: \n [[0.609039 -0.561157]\n [0.396703 0.513019]\n [-0.401613 -0.836859]]\nEstimated variance for each Gaussian distribution: \n [[0.232339 1.048391]\n [0.935212 0.066276]\n [0.330985 0.675591]]\n",
          "output_type": "stream"
        }
      ]
    },
    {
      "cell_type": "markdown",
      "source": "For example, for Class 0 and the first feature, we can have the following Gaussian disribution\n$$P(x_0 \\mid Class=0) = \\frac{1}{\\sqrt{2\\pi\\cdot0.2323}} \\exp\\left(-\\frac{(x_0 - 0.6090)^2}{2\\cdot0.2323}\\right)$$",
      "metadata": {}
    },
    {
      "cell_type": "code",
      "source": "# Use 10-fold cross validation to show a more robust prediction accuracy\nclf = GaussianNB()\nscores = cross_val_score(clf, X, y, scoring='accuracy', cv=10)\nprint('Gaussian Naive Bayes accuracy range: [%.4f, %.4f]; mean: %.4f; std: %.4f\\n' % (scores.min(), scores.max(), scores.mean(), scores.std()))",
      "metadata": {},
      "execution_count": 20,
      "outputs": [
        {
          "name": "stdout",
          "output_type": "stream",
          "text": "Gaussian Naive Bayes accuracy range: [0.3333, 1.0000]; mean: 0.6967; std: 0.1773\n\n\n"
        }
      ]
    },
    {
      "cell_type": "markdown",
      "source": "## Task 4\nGiven the training data generated as follows:",
      "metadata": {}
    },
    {
      "cell_type": "code",
      "source": "X = np.array([[-1, -1], [-2, -1], [-3, -2], [1, 1], [2, 1], [3, 2]])\ny = np.array([1, 1, 1, 2, 2, 2])\n\n# Firstly, let's do the parameter estimation manually without using the model\nX_0_C_1=X[y==1][:,0]\nX_1_C_1=X[y==1][:,1]\nX_0_C_2=X[y==2][:,0]\nX_1_C_2=X[y==2][:,1]\n\nmanual_means = np.array([[X_0_C_1.mean(), X_1_C_1.mean()], [X_0_C_2.mean(), X_1_C_2.mean()]])\nnp.set_printoptions(precision=4)\nprint('Means estaimated manually: \\n', manual_means)\nmanual_vars = np.array([[X_0_C_1.var(), X_1_C_1.var()], [X_0_C_2.var(), X_1_C_2.var()]])\nprint('Variances estaimated manually: \\n', manual_vars)",
      "metadata": {},
      "execution_count": 21,
      "outputs": [
        {
          "name": "stdout",
          "output_type": "stream",
          "text": "Means estaimated manually: \n\n [[-2.     -1.3333]\n\n [ 2.      1.3333]]\n\nVariances estaimated manually: \n\n [[0.6667 0.2222]\n\n [0.6667 0.2222]]\n"
        }
      ]
    },
    {
      "cell_type": "markdown",
      "source": " Train a GaussianNB model and print out the learned model parameters (parameters of probability distributions). And check if the learned parameters comply with the manually estimated ones as shown above. Predict the label of a data [-0.8,-1].",
      "metadata": {}
    },
    {
      "cell_type": "code",
      "source": "# [Your code here ...]\nclf = GaussianNB()\nclf.fit(X, y)\n\nprint('Means estaimated manually: \\n', clf.theta_)\nprint('Variances estaimated manually: \\n', clf.var_)",
      "metadata": {
        "trusted": true
      },
      "execution_count": 59,
      "outputs": [
        {
          "name": "stdout",
          "text": "Means estaimated manually: \n [[0.624495 -0.543449]\n [0.378096 0.513315]\n [-0.409724 -0.696239]]\nVariances estaimated manually: \n [[0.210997 1.215960]\n [1.031672 0.067002]\n [0.325617 0.697777]]\n",
          "output_type": "stream"
        }
      ]
    },
    {
      "cell_type": "code",
      "source": "#Predict thelabel of data [-0.8,-1].\nX_new = [[-0.8, -1]]\ny_pred = clf.predict(X_new)\nprint('Predict the label of a data [-0.8,-1], predictd value:',y_pred[0])",
      "metadata": {
        "trusted": true
      },
      "execution_count": 58,
      "outputs": [
        {
          "name": "stdout",
          "text": "Predict the label of a data [-0.8,-1], predictd value: 2\n",
          "output_type": "stream"
        }
      ]
    },
    {
      "cell_type": "markdown",
      "source": "* ### Multinomial Naive Bayes\nThe [MultinomialNB](https://scikit-learn.org/stable/modules/generated/sklearn.naive_bayes.MultinomialNB.html#sklearn.naive_bayes.MultinomialNB) classification model is suitable for classification with discrete features. To let the model handle to categorical data, we often need to transform the categorical values to numberic ones, through [encoding](https://scikit-learn.org/stable/modules/preprocessing.html#encoding-categorical-features) methods.",
      "metadata": {}
    },
    {
      "cell_type": "code",
      "source": "# Load the weather data\nweather_data = pd.read_csv('Weather.csv')\nprint(weather_data.head())\nprint('\\nData shape: ', weather_data.shape)",
      "metadata": {
        "trusted": true
      },
      "execution_count": 61,
      "outputs": [
        {
          "name": "stdout",
          "text": "    Outlook Humidity    Wind Play\n0     Sunny     High    Weak   No\n1     Sunny     High  Strong   No\n2  Overcast     High    Weak  Yes\n3      Rain     High    Weak  Yes\n4      Rain   Normal    Weak  Yes\n\nData shape:  (14, 4)\n",
          "output_type": "stream"
        }
      ]
    },
    {
      "cell_type": "code",
      "source": "# Data pre-processing and preparation\n# Firstly, we need to encode categorical values\nfrom sklearn.preprocessing import OrdinalEncoder\nenc = OrdinalEncoder()\ncoded_data = enc.fit_transform(weather_data)\n\nX = coded_data[:, 0:-1]\ny = coded_data[:, -1]\n\nX_train, X_test, y_train, y_test = train_test_split(X, y, random_state=42)",
      "metadata": {
        "trusted": true
      },
      "execution_count": 62,
      "outputs": []
    },
    {
      "cell_type": "code",
      "source": "# Creat and train a model\nfrom sklearn.naive_bayes import MultinomialNB\nclf_mnb = MultinomialNB()\nclf_mnb.fit(X_train, y_train)",
      "metadata": {
        "trusted": true
      },
      "execution_count": 63,
      "outputs": [
        {
          "execution_count": 63,
          "output_type": "execute_result",
          "data": {
            "text/plain": "MultinomialNB()",
            "text/html": "<style>#sk-container-id-5 {color: black;background-color: white;}#sk-container-id-5 pre{padding: 0;}#sk-container-id-5 div.sk-toggleable {background-color: white;}#sk-container-id-5 label.sk-toggleable__label {cursor: pointer;display: block;width: 100%;margin-bottom: 0;padding: 0.3em;box-sizing: border-box;text-align: center;}#sk-container-id-5 label.sk-toggleable__label-arrow:before {content: \"▸\";float: left;margin-right: 0.25em;color: #696969;}#sk-container-id-5 label.sk-toggleable__label-arrow:hover:before {color: black;}#sk-container-id-5 div.sk-estimator:hover label.sk-toggleable__label-arrow:before {color: black;}#sk-container-id-5 div.sk-toggleable__content {max-height: 0;max-width: 0;overflow: hidden;text-align: left;background-color: #f0f8ff;}#sk-container-id-5 div.sk-toggleable__content pre {margin: 0.2em;color: black;border-radius: 0.25em;background-color: #f0f8ff;}#sk-container-id-5 input.sk-toggleable__control:checked~div.sk-toggleable__content {max-height: 200px;max-width: 100%;overflow: auto;}#sk-container-id-5 input.sk-toggleable__control:checked~label.sk-toggleable__label-arrow:before {content: \"▾\";}#sk-container-id-5 div.sk-estimator input.sk-toggleable__control:checked~label.sk-toggleable__label {background-color: #d4ebff;}#sk-container-id-5 div.sk-label input.sk-toggleable__control:checked~label.sk-toggleable__label {background-color: #d4ebff;}#sk-container-id-5 input.sk-hidden--visually {border: 0;clip: rect(1px 1px 1px 1px);clip: rect(1px, 1px, 1px, 1px);height: 1px;margin: -1px;overflow: hidden;padding: 0;position: absolute;width: 1px;}#sk-container-id-5 div.sk-estimator {font-family: monospace;background-color: #f0f8ff;border: 1px dotted black;border-radius: 0.25em;box-sizing: border-box;margin-bottom: 0.5em;}#sk-container-id-5 div.sk-estimator:hover {background-color: #d4ebff;}#sk-container-id-5 div.sk-parallel-item::after {content: \"\";width: 100%;border-bottom: 1px solid gray;flex-grow: 1;}#sk-container-id-5 div.sk-label:hover label.sk-toggleable__label {background-color: #d4ebff;}#sk-container-id-5 div.sk-serial::before {content: \"\";position: absolute;border-left: 1px solid gray;box-sizing: border-box;top: 0;bottom: 0;left: 50%;z-index: 0;}#sk-container-id-5 div.sk-serial {display: flex;flex-direction: column;align-items: center;background-color: white;padding-right: 0.2em;padding-left: 0.2em;position: relative;}#sk-container-id-5 div.sk-item {position: relative;z-index: 1;}#sk-container-id-5 div.sk-parallel {display: flex;align-items: stretch;justify-content: center;background-color: white;position: relative;}#sk-container-id-5 div.sk-item::before, #sk-container-id-5 div.sk-parallel-item::before {content: \"\";position: absolute;border-left: 1px solid gray;box-sizing: border-box;top: 0;bottom: 0;left: 50%;z-index: -1;}#sk-container-id-5 div.sk-parallel-item {display: flex;flex-direction: column;z-index: 1;position: relative;background-color: white;}#sk-container-id-5 div.sk-parallel-item:first-child::after {align-self: flex-end;width: 50%;}#sk-container-id-5 div.sk-parallel-item:last-child::after {align-self: flex-start;width: 50%;}#sk-container-id-5 div.sk-parallel-item:only-child::after {width: 0;}#sk-container-id-5 div.sk-dashed-wrapped {border: 1px dashed gray;margin: 0 0.4em 0.5em 0.4em;box-sizing: border-box;padding-bottom: 0.4em;background-color: white;}#sk-container-id-5 div.sk-label label {font-family: monospace;font-weight: bold;display: inline-block;line-height: 1.2em;}#sk-container-id-5 div.sk-label-container {text-align: center;}#sk-container-id-5 div.sk-container {/* jupyter's `normalize.less` sets `[hidden] { display: none; }` but bootstrap.min.css set `[hidden] { display: none !important; }` so we also need the `!important` here to be able to override the default hidden behavior on the sphinx rendered scikit-learn.org. See: https://github.com/scikit-learn/scikit-learn/issues/21755 */display: inline-block !important;position: relative;}#sk-container-id-5 div.sk-text-repr-fallback {display: none;}</style><div id=\"sk-container-id-5\" class=\"sk-top-container\"><div class=\"sk-text-repr-fallback\"><pre>MultinomialNB()</pre><b>In a Jupyter environment, please rerun this cell to show the HTML representation or trust the notebook. <br />On GitHub, the HTML representation is unable to render, please try loading this page with nbviewer.org.</b></div><div class=\"sk-container\" hidden><div class=\"sk-item\"><div class=\"sk-estimator sk-toggleable\"><input class=\"sk-toggleable__control sk-hidden--visually\" id=\"sk-estimator-id-5\" type=\"checkbox\" checked><label for=\"sk-estimator-id-5\" class=\"sk-toggleable__label sk-toggleable__label-arrow\">MultinomialNB</label><div class=\"sk-toggleable__content\"><pre>MultinomialNB()</pre></div></div></div></div></div>"
          },
          "metadata": {}
        }
      ]
    },
    {
      "cell_type": "code",
      "source": "# Evaluate the model\ny_pred = clf_mnb.predict(X_test)\naccuracy = accuracy_score(y_test, y_pred)\nprint('Accuracy is: %.4f\\n' % accuracy)",
      "metadata": {
        "trusted": true
      },
      "execution_count": 64,
      "outputs": [
        {
          "name": "stdout",
          "text": "Accuracy is: 0.7500\n\n",
          "output_type": "stream"
        }
      ]
    },
    {
      "cell_type": "code",
      "source": "# Explore the learned model parameters (probabilities)\n# Note that the probabilities are in the logorithmic form. Why? The log-sum-exp trick for underflow of probability products\nprint('Estimated probability of classess: \\n', np.e**clf_mnb.class_log_prior_)\nprint('Estimated class-conditional probabilities for each feature: \\n', np.e**clf_mnb.feature_log_prob_)",
      "metadata": {
        "trusted": true
      },
      "execution_count": 65,
      "outputs": [
        {
          "name": "stdout",
          "text": "Estimated probability of classess: \n [0.400000 0.600000]\nEstimated class-conditional probabilities for each feature: \n [[0.636364 0.181818 0.181818]\n [0.411765 0.294118 0.294118]]\n",
          "output_type": "stream"
        }
      ]
    },
    {
      "cell_type": "markdown",
      "source": "## Task 5\nGiven the training data generated as follows. The number of data instances (6) is small while the demensionality of the data is relatively highly (100).",
      "metadata": {}
    },
    {
      "cell_type": "code",
      "source": "X = np.random.randint(5, size=(6, 100))\ny = np.array([1, 2, 3, 4, 5, 6])",
      "metadata": {
        "trusted": true
      },
      "execution_count": 66,
      "outputs": []
    },
    {
      "cell_type": "markdown",
      "source": "Train a MultinomialNB model, and predict the label of a data X_new = [[1,2,1,0,2,3,0,3,2,1,1,3,3,0,4,2,2,0,0,2,2,3,4,4,4,4,0,3,3,\n          1,1,1,2,3,1,3,0,2,2,0,4,2,4,3,2,0,1,1,1,2,3,0,0,3,4,3,3,4,\n          2,1,0,0,0,0,4,1,2,0,0,4,4,0,4,1,3,1,1,1,3,1,1,1,4,3,1,1,3,\n          2,0,0,0,3,4,1,1,4,3,2,3,4]]:",
      "metadata": {}
    },
    {
      "cell_type": "code",
      "source": "# [Your code here ...]\nclf_mnb = MultinomialNB(alpha=0)\nclf_mnb.fit(X, y)\n",
      "metadata": {
        "trusted": true
      },
      "execution_count": 67,
      "outputs": [
        {
          "execution_count": 67,
          "output_type": "execute_result",
          "data": {
            "text/plain": "MultinomialNB(alpha=0)",
            "text/html": "<style>#sk-container-id-6 {color: black;background-color: white;}#sk-container-id-6 pre{padding: 0;}#sk-container-id-6 div.sk-toggleable {background-color: white;}#sk-container-id-6 label.sk-toggleable__label {cursor: pointer;display: block;width: 100%;margin-bottom: 0;padding: 0.3em;box-sizing: border-box;text-align: center;}#sk-container-id-6 label.sk-toggleable__label-arrow:before {content: \"▸\";float: left;margin-right: 0.25em;color: #696969;}#sk-container-id-6 label.sk-toggleable__label-arrow:hover:before {color: black;}#sk-container-id-6 div.sk-estimator:hover label.sk-toggleable__label-arrow:before {color: black;}#sk-container-id-6 div.sk-toggleable__content {max-height: 0;max-width: 0;overflow: hidden;text-align: left;background-color: #f0f8ff;}#sk-container-id-6 div.sk-toggleable__content pre {margin: 0.2em;color: black;border-radius: 0.25em;background-color: #f0f8ff;}#sk-container-id-6 input.sk-toggleable__control:checked~div.sk-toggleable__content {max-height: 200px;max-width: 100%;overflow: auto;}#sk-container-id-6 input.sk-toggleable__control:checked~label.sk-toggleable__label-arrow:before {content: \"▾\";}#sk-container-id-6 div.sk-estimator input.sk-toggleable__control:checked~label.sk-toggleable__label {background-color: #d4ebff;}#sk-container-id-6 div.sk-label input.sk-toggleable__control:checked~label.sk-toggleable__label {background-color: #d4ebff;}#sk-container-id-6 input.sk-hidden--visually {border: 0;clip: rect(1px 1px 1px 1px);clip: rect(1px, 1px, 1px, 1px);height: 1px;margin: -1px;overflow: hidden;padding: 0;position: absolute;width: 1px;}#sk-container-id-6 div.sk-estimator {font-family: monospace;background-color: #f0f8ff;border: 1px dotted black;border-radius: 0.25em;box-sizing: border-box;margin-bottom: 0.5em;}#sk-container-id-6 div.sk-estimator:hover {background-color: #d4ebff;}#sk-container-id-6 div.sk-parallel-item::after {content: \"\";width: 100%;border-bottom: 1px solid gray;flex-grow: 1;}#sk-container-id-6 div.sk-label:hover label.sk-toggleable__label {background-color: #d4ebff;}#sk-container-id-6 div.sk-serial::before {content: \"\";position: absolute;border-left: 1px solid gray;box-sizing: border-box;top: 0;bottom: 0;left: 50%;z-index: 0;}#sk-container-id-6 div.sk-serial {display: flex;flex-direction: column;align-items: center;background-color: white;padding-right: 0.2em;padding-left: 0.2em;position: relative;}#sk-container-id-6 div.sk-item {position: relative;z-index: 1;}#sk-container-id-6 div.sk-parallel {display: flex;align-items: stretch;justify-content: center;background-color: white;position: relative;}#sk-container-id-6 div.sk-item::before, #sk-container-id-6 div.sk-parallel-item::before {content: \"\";position: absolute;border-left: 1px solid gray;box-sizing: border-box;top: 0;bottom: 0;left: 50%;z-index: -1;}#sk-container-id-6 div.sk-parallel-item {display: flex;flex-direction: column;z-index: 1;position: relative;background-color: white;}#sk-container-id-6 div.sk-parallel-item:first-child::after {align-self: flex-end;width: 50%;}#sk-container-id-6 div.sk-parallel-item:last-child::after {align-self: flex-start;width: 50%;}#sk-container-id-6 div.sk-parallel-item:only-child::after {width: 0;}#sk-container-id-6 div.sk-dashed-wrapped {border: 1px dashed gray;margin: 0 0.4em 0.5em 0.4em;box-sizing: border-box;padding-bottom: 0.4em;background-color: white;}#sk-container-id-6 div.sk-label label {font-family: monospace;font-weight: bold;display: inline-block;line-height: 1.2em;}#sk-container-id-6 div.sk-label-container {text-align: center;}#sk-container-id-6 div.sk-container {/* jupyter's `normalize.less` sets `[hidden] { display: none; }` but bootstrap.min.css set `[hidden] { display: none !important; }` so we also need the `!important` here to be able to override the default hidden behavior on the sphinx rendered scikit-learn.org. See: https://github.com/scikit-learn/scikit-learn/issues/21755 */display: inline-block !important;position: relative;}#sk-container-id-6 div.sk-text-repr-fallback {display: none;}</style><div id=\"sk-container-id-6\" class=\"sk-top-container\"><div class=\"sk-text-repr-fallback\"><pre>MultinomialNB(alpha=0)</pre><b>In a Jupyter environment, please rerun this cell to show the HTML representation or trust the notebook. <br />On GitHub, the HTML representation is unable to render, please try loading this page with nbviewer.org.</b></div><div class=\"sk-container\" hidden><div class=\"sk-item\"><div class=\"sk-estimator sk-toggleable\"><input class=\"sk-toggleable__control sk-hidden--visually\" id=\"sk-estimator-id-6\" type=\"checkbox\" checked><label for=\"sk-estimator-id-6\" class=\"sk-toggleable__label sk-toggleable__label-arrow\">MultinomialNB</label><div class=\"sk-toggleable__content\"><pre>MultinomialNB(alpha=0)</pre></div></div></div></div></div>"
          },
          "metadata": {}
        }
      ]
    },
    {
      "cell_type": "markdown",
      "source": "In our lecture, we discussed that if there is no occurence of some feature values, zero probabilities will appear. To overcome this issue, Laplace correction (smoothing) is proposed, as shown in the follow formula. In the [MultinomialNB](https://scikit-learn.org/stable/modules/generated/sklearn.naive_bayes.MultinomialNB.html#sklearn.naive_bayes.MultinomialNB) implementation, the parameter 'alpha' controls the way we apply smoothing. The default value is 'alpha=1.0'. Please create and train a model with no Laplace smoothing for the above data set. Compare the leaned model parameters (probabilities) with the case 'alpha=1', by checking if there are zero probabilities (note that due to the accuracy issue, zero might be represented as a signficantly small number by the computer).\n$$p(x_{yi}|y)=\\frac{N_{yi}+\\alpha}{N_y+{\\alpha}n}$$",
      "metadata": {}
    },
    {
      "cell_type": "code",
      "source": "# [Your code here ...]\nclf_mnb = MultinomialNB()\nclf_mnb.fit(X, y)\nX_new = [[1,2,1,0,2,3,0,3,2,1,1,3,3,0,4,2,2,0,0,2,2,3,4,4,4,4,0,3,3, 1,1,1,2,3,1,3,0,2,2,0,4,2,4,3,2,0,1,1,1,2,3,0,0,3,4,3,3,4, 2,1,0,0,0,0,4,1,2,0,0,4,4,0,4,1,3,1,1,1,3,1,1,1,4,3,1,1,3, 2,0,0,0,3,4,1,1,4,3,2,3,4]]\nprint('predict the label of a data X-new, result is', clf_mnb.predict(X_new)[0])",
      "metadata": {
        "trusted": true
      },
      "execution_count": 68,
      "outputs": [
        {
          "name": "stdout",
          "text": "predict the label of a data X-new, result is 4\n",
          "output_type": "stream"
        }
      ]
    },
    {
      "cell_type": "markdown",
      "source": "* ### Comparasion on Iris data\n## Task 6\nCompare the prediction accuaracy between KNN clasifier (use the optimal K you've identied) and Gaussian Naive Bayes. Use 10-cross validation to report the accuracy mean and standard deviation (Note this is to ensure the comparison is based on robust performace). Which classifidation mdoel is more accurate on Iris data set? Use t-test to show if the difference is statistically significant.",
      "metadata": {}
    },
    {
      "cell_type": "code",
      "source": "# [Your code here ...]\nclf_gnb = GaussianNB()\nclf_knn = KNeighborsClassifier(n_neighbors=16)\n\nscores_gnb = cross_val_score(clf_gnb, iris_data.data, iris_data.target, scoring='accuracy', cv=10)\nscores_knn = cross_val_score(clf_knn, iris_data.data, iris_data.target, scoring='accuracy', cv=10)                                     ",
      "metadata": {
        "trusted": true
      },
      "execution_count": 71,
      "outputs": []
    },
    {
      "cell_type": "code",
      "source": "scores_gnb.mean(), scores_gnb.std()",
      "metadata": {
        "trusted": true
      },
      "execution_count": 72,
      "outputs": [
        {
          "execution_count": 72,
          "output_type": "execute_result",
          "data": {
            "text/plain": "(0.9533333333333334, 0.04268749491621898)"
          },
          "metadata": {}
        }
      ]
    },
    {
      "cell_type": "code",
      "source": "scores_knn.mean(), scores_knn.std()",
      "metadata": {
        "trusted": true
      },
      "execution_count": 73,
      "outputs": [
        {
          "execution_count": 73,
          "output_type": "execute_result",
          "data": {
            "text/plain": "(0.9733333333333334, 0.03265986323710904)"
          },
          "metadata": {}
        }
      ]
    },
    {
      "cell_type": "code",
      "source": "#Conclusion\n#KNN model has a better performance than Gaussian Naive Bayes adn even more robust and stable",
      "metadata": {},
      "execution_count": null,
      "outputs": []
    }
  ]
}